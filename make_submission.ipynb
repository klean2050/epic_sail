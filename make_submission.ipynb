{
 "cells": [
  {
   "cell_type": "code",
   "execution_count": 2,
   "metadata": {},
   "outputs": [],
   "source": [
    "from src.loaders import *\n",
    "from src.trainers import *"
   ]
  },
  {
   "cell_type": "code",
   "execution_count": null,
   "metadata": {},
   "outputs": [],
   "source": [
    "import numpy as np\n",
    "\n",
    "root = \"/home/kavra/Datasets/physio/epic_challenge\"\n",
    "dataset =  MULTI_EPIC(\n",
    "    root, sr=100, scenario=4, split=\"test\", category=\"arousal\", fold=1\n",
    ")\n",
    "\n",
    "preds_a = np.load(\".../EPIC_4_1_arousal_init.npy\")\n",
    "preds_a = list(np.convolve(preds_a, np.ones(5), \"valid\") / 5) + list(preds_a[-4:])\n",
    "\n",
    "preds_v = np.load(\".../EPIC_multi_4_1_valence_init.npy\")\n",
    "preds_v = list(np.convolve(preds_v, np.ones(5), \"valid\") / 5) + list(preds_v[-4:])"
   ]
  },
  {
   "cell_type": "code",
   "execution_count": 3,
   "metadata": {},
   "outputs": [
    {
     "name": "stderr",
     "output_type": "stream",
     "text": [
      "100%|██████████| 482/482 [00:01<00:00, 337.94it/s]\n"
     ]
    }
   ],
   "source": [
    "dataset.predict(preds_a, preds_v)"
   ]
  },
  {
   "cell_type": "code",
   "execution_count": 30,
   "metadata": {},
   "outputs": [],
   "source": [
    "import os, shutil\n",
    "\n",
    "root = \"/home/kavra/Datasets/physio/epic_challenge\"\n",
    "preds_files = [\n",
    "    os.path.join(dp, f)\n",
    "    for dp, _, filenames in os.walk(root)\n",
    "    for f in filenames\n",
    "    if \"preds\" in f\n",
    "]"
   ]
  },
  {
   "cell_type": "code",
   "execution_count": null,
   "metadata": {},
   "outputs": [],
   "source": [
    "os.makedirs(\"results\", exist_ok=True)\n",
    "\n",
    "for scenario in os.listdir(root):\n",
    "\n",
    "    sc_path = os.path.join(root, scenario)\n",
    "    new_sc_path = os.path.join(\"results\", scenario)\n",
    "    os.makedirs(new_sc_path, exist_ok=True)\n",
    "\n",
    "    if \"1\" in scenario:\n",
    "\n",
    "        split_path = os.path.join(sc_path, \"test\")\n",
    "        new_split_path = os.path.join(new_sc_path, \"test\")\n",
    "        os.makedirs(new_split_path, exist_ok=True)\n",
    "\n",
    "        annot_path = os.path.join(split_path, \"annotations\")\n",
    "        new_annot_path = os.path.join(new_split_path, \"annotations\")\n",
    "        os.makedirs(new_annot_path, exist_ok=True)\n",
    "\n",
    "        # copy every file that fits here\n",
    "        for filepath in preds_files:\n",
    "            if filepath.endswith(\"#\"):\n",
    "                continue\n",
    "            if annot_path in filepath and \"preds\" in filepath:\n",
    "                name = filepath.split(\"/\")[-1].replace(\"_preds\", \"\")\n",
    "                shutil.copy(filepath, new_annot_path + \"/\" + name)\n",
    "    else:\n",
    "        for fold in os.listdir(sc_path):\n",
    "\n",
    "            fold_path = os.path.join(sc_path, fold)\n",
    "            new_fold_path = os.path.join(new_sc_path, fold)\n",
    "            os.makedirs(new_fold_path, exist_ok=True)\n",
    "\n",
    "            split_path = os.path.join(fold_path, \"test\")\n",
    "            new_split_path = os.path.join(new_fold_path, \"test\")\n",
    "            os.makedirs(new_split_path, exist_ok=True)\n",
    "\n",
    "            annot_path = os.path.join(split_path, \"annotations\")\n",
    "            new_annot_path = os.path.join(new_split_path, \"annotations\")\n",
    "            os.makedirs(new_annot_path, exist_ok=True)\n",
    "\n",
    "            # copy every file that fits here\n",
    "            for filepath in preds_files:\n",
    "                if filepath.endswith(\"#\"):\n",
    "                    continue\n",
    "                if annot_path in filepath and \"preds\" in filepath:\n",
    "                    name = filepath.split(\"/\")[-1].replace(\"_preds\", \"\")\n",
    "                    shutil.copy(filepath, new_annot_path + \"/\" + name)"
   ]
  }
 ],
 "metadata": {
  "kernelspec": {
   "display_name": "base",
   "language": "python",
   "name": "python3"
  },
  "language_info": {
   "codemirror_mode": {
    "name": "ipython",
    "version": 3
   },
   "file_extension": ".py",
   "mimetype": "text/x-python",
   "name": "python",
   "nbconvert_exporter": "python",
   "pygments_lexer": "ipython3",
   "version": "3.9.7"
  },
  "orig_nbformat": 4
 },
 "nbformat": 4,
 "nbformat_minor": 2
}
